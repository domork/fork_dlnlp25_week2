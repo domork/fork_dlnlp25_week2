{
 "cells": [
  {
   "cell_type": "markdown",
   "metadata": {},
   "source": []
  },
  {
   "cell_type": "markdown",
   "metadata": {},
   "source": [
    "CoNLL-2003 dataset task demonstrates the labeling of tokens for named entity recognition (NER), part-of-speech (POS) tagging, and chunking. Each component of the JSON object corresponds to a different layer of annotation for the sentence:\n",
    "\n",
    "1. **Tokens**: These are the individual words or punctuation marks from the text. In this case, the sentence \"EU rejects German call to boycott British lamb.\" is split into tokens:\n",
    "   - \"EU\"\n",
    "   - \"rejects\"\n",
    "   - \"German\"\n",
    "   - \"call\"\n",
    "   - \"to\"\n",
    "   - \"boycott\"\n",
    "   - \"British\"\n",
    "   - \"lamb\"\n",
    "   - \".\"\n",
    "\n",
    "2. **POS Tags**: This array contains the POS tags corresponding to each token. The tags are encoded as numbers, each representing a specific part of speech (like noun, verb, adjective). These numbers usually correspond to a tagging scheme such as the Penn Treebank POS tags:\n",
    "   - \"EU\" is tagged as 22, which represents a proper noun.\n",
    "   - \"rejects\" is tagged as 42, indicating a verb in present tense.\n",
    "   - And so forth.\n",
    "\n",
    "3. **Chunk Tags**: This array indicates phrase chunk boundaries and types (like NP for noun phrase, VP for verb phrase). Each number again corresponds to a specific type of phrase or boundary in a predefined scheme:\n",
    "   - \"EU\" is part of a noun phrase, hence 11.\n",
    "   - \"rejects\" begins a verb phrase, indicated by 21.\n",
    "   - The chunk tags help in parsing the sentence into linguistically meaningful phrases.\n",
    "\n",
    "4. **NER Tags**: These tags are used for named entity recognition. They identify whether each token is part of a named entity (like a person, location, organization) and the type of entity:\n",
    "   - \"EU\" is tagged as 3, denoting an organization.\n",
    "   - \"German\" and \"British\" are tagged as 7, indicating nationality or ethnicity.\n",
    "   - Other tokens are tagged as 0, meaning they are not recognized as part of any named entity."
   ]
  },
  {
   "cell_type": "markdown",
   "metadata": {},
   "source": [
    " Homework: \n",
    "Load a NER dataset (e.g. CoNLL-2003) using the script provided below.\n",
    "   - Create a custom nn.Module class that takes Glove word embeddings as input, passes them through a linear layer, and outputs NER tags\n",
    "   - Train the model using cross-entropy loss and evaluate its performance using entity-level F1 score\n",
    "   - Analyze the model's predictions and visualize the confusion matrix to identify common errors\n",
    "2. Build a multi-layer perceptron (MLP) for NER using Glove embeddings\n",
    "   - Extend the previous exercise by creating an nn.Module class that defines an MLP architecture on top of Glove embeddings\n",
    "   - Experiment with different hidden layer sizes and number of layers\n",
    "   - Evaluate the trained model using entity-level precision, recall, and F1 scores\n",
    "   - Compare the performance of the MLP model with the simple linear model from exercise \n",
    "   - 1\n",
    "3. Explore the effects of different activation functions and regularization techniques for NER\n",
    "   - Modify the MLP model from exercise 2 to allow configurable activation functions (e.g. ReLU, tanh, sigmoid)\n",
    "   - Train models with different activation functions.)\n",
    "   - Visualize the learned entity embeddings using dimensionality reduction techniques like PCA or t-SNE (edited) \n",
    "   - "
   ]
  },
  {
   "cell_type": "code",
   "execution_count": 1,
   "metadata": {},
   "outputs": [
    {
     "name": "stderr",
     "output_type": "stream",
     "text": [
      "C:\\Python312\\Lib\\site-packages\\tqdm\\auto.py:21: TqdmWarning: IProgress not found. Please update jupyter and ipywidgets. See https://ipywidgets.readthedocs.io/en/stable/user_install.html\n",
      "  from .autonotebook import tqdm as notebook_tqdm\n"
     ]
    },
    {
     "name": "stdout",
     "output_type": "stream",
     "text": [
      "dataset: \n",
      "\n",
      "DatasetDict({\n",
      "    train: Dataset({\n",
      "        features: ['id', 'tokens', 'pos_tags', 'chunk_tags', 'ner_tags'],\n",
      "        num_rows: 14041\n",
      "    })\n",
      "    validation: Dataset({\n",
      "        features: ['id', 'tokens', 'pos_tags', 'chunk_tags', 'ner_tags'],\n",
      "        num_rows: 3250\n",
      "    })\n",
      "    test: Dataset({\n",
      "        features: ['id', 'tokens', 'pos_tags', 'chunk_tags', 'ner_tags'],\n",
      "        num_rows: 3453\n",
      "    })\n",
      "})\n",
      "\n",
      "====\n",
      "\n",
      "dataset tokens example:\n",
      "\n",
      "['EU', 'rejects', 'German', 'call', 'to', 'boycott', 'British', 'lamb', '.']\n"
     ]
    },
    {
     "name": "stderr",
     "output_type": "stream",
     "text": [
      "14041lines [00:01, 10278.38lines/s]"
     ]
    },
    {
     "name": "stdout",
     "output_type": "stream",
     "text": [
      "<pad> index explicitly: 1\n",
      "<unk> index explicitly: 0\n",
      "Tokens explicitly: ['EU', 'rejects', 'memes', '.']\n",
      "Converted indices explicitly: [964, 22407, 0, 2]\n"
     ]
    },
    {
     "name": "stderr",
     "output_type": "stream",
     "text": [
      "\n"
     ]
    }
   ],
   "source": [
    "import torch\n",
    "import torch.nn as nn\n",
    "from datasets import load_dataset\n",
    "from torch.utils.data import DataLoader\n",
    "from torch.nn.utils.rnn import pad_sequence\n",
    "from torchtext.vocab import GloVe, build_vocab_from_iterator\n",
    "from sklearn.metrics import classification_report, confusion_matrix\n",
    "import seaborn as sns\n",
    "import matplotlib.pyplot as plt\n",
    "\n",
    "\n",
    "# Load and preprocess CoNLL-2003 dataset\n",
    "conll2003 = load_dataset(\"conll2003\")\n",
    "# tokenizer = AutoTokenizer.from_pretrained(\"bert-base-uncased\")\n",
    "print(\"dataset: \\n\")\n",
    "print(conll2003)\n",
    "print(\"\\n====\\n\")\n",
    "print(\"dataset tokens example:\\n\")\n",
    "print(conll2003[\"train\"][\"tokens\"][0])\n",
    "\n",
    "\"\"\"\n",
    "From type:\n",
    "dataset = [{\"tokens\": [\"EU\", \"rejects\", \"German\", \"call\"]},\n",
    "           {\"tokens\": [\"British\", \"lamb\", \".\"]}]\n",
    "Provides only internal tokens:\n",
    "                    [\"EU\", \"rejects\", \"German\", \"call\"],\n",
    "                    [\"British\", \"lamb\", \".\"]\n",
    "\n",
    "\"\"\"\n",
    "def yield_tokens(data_iter):\n",
    "    for item in data_iter:\n",
    "        yield item[\"tokens\"]\n",
    "\n",
    "# Initial vocab alphabetically sorted from train tokens\n",
    "vocab = build_vocab_from_iterator(yield_tokens(conll2003[\"train\"]))\n",
    "\n",
    "# Check current indices explicitly\n",
    "pad_index = vocab.stoi[\"<pad>\"]\n",
    "unk_index = vocab.stoi[\"<unk>\"]\n",
    "print(\"<pad> index explicitly:\", pad_index)\n",
    "print(\"<unk> index explicitly:\", unk_index)\n",
    "\n",
    "# Labels dictionary\n",
    "label_list = conll2003[\"train\"].features[\"ner_tags\"].feature.names\n",
    "label2id = {label: i for i, label in enumerate(label_list)}\n",
    "\n",
    "\n",
    "def vocab_lookup(token):\n",
    "    return vocab.stoi.get(token, vocab.stoi[\"<unk>\"])\n",
    "\n",
    "\n",
    "test_tokens = [\"EU\", \"rejects\", \"memes\", \".\"]\n",
    "test_indices = [vocab_lookup(tok) for tok in test_tokens]\n",
    "\n",
    "print(f\"Tokens explicitly: {test_tokens}\")\n",
    "print(f\"Converted indices explicitly: {test_indices}\")\n",
    "\n",
    "\n",
    "\n"
   ]
  },
  {
   "cell_type": "code",
   "execution_count": 2,
   "metadata": {},
   "outputs": [
    {
     "name": "stdout",
     "output_type": "stream",
     "text": [
      "Tokenized first example clearly:\n",
      "{'input_ids': [964, 22407, 236, 771, 7, 4586, 210, 7684, 2], 'labels': [3, 0, 7, 0, 0, 0, 7, 0, 0]}\n"
     ]
    }
   ],
   "source": [
    "# This function receives examples with two main keys:\n",
    "# examples = {\n",
    "#     \"tokens\": [[\"EU\", \"rejects\", \"German\", \"call\"], [\"British\", \"lamb\", \".\"]],\n",
    "#     \"ner_tags\": [[3, 0, 7, 0], [7, 0, 0]]\n",
    "# }\n",
    "#\n",
    "# It converts tokens into numerical indices using vocabulary lookup,\n",
    "# clearly handling unknown tokens by assigning them the \"<unk>\" index.\n",
    "#\n",
    "# For example, given the tokens [\"EU\", \"rejects\", \"unicorns\"]:\n",
    "# - \"EU\" -> known word, converts to vocab index (e.g., 10)\n",
    "# - \"rejects\" -> known word, converts to vocab index (e.g., 20)\n",
    "# - \"unicorns\" -> unknown word, converts to <unk> index (e.g., 1)\n",
    "# Then we have [10, 20, 1]\n",
    "\n",
    "def tokenize_and_align_labels(examples):\n",
    "    # Convert tokens into vocab indices and labels into tensors\n",
    "    token_indices = [\n",
    "        torch.tensor([vocab_lookup(tok) for tok in sentence])\n",
    "        for sentence in examples[\"tokens\"]\n",
    "    ]\n",
    "\n",
    "    # Example: tokens [\"EU\", \"rejects\", \".\"] -> indices [10, 20, 3]\n",
    "    labels = [\n",
    "        torch.tensor(label_sequence)\n",
    "        for label_sequence in examples[\"ner_tags\"]\n",
    "    ]\n",
    "\n",
    "    # Return data in clearly structured format:\n",
    "    # {\n",
    "    #   \"input_ids\": [tensor([10, 20, 3]), tensor([5, 6, 7]), ...],\n",
    "    #   \"labels\": [tensor([3, 0, 0]), tensor([7, 0, 0]), ...]\n",
    "    # }\n",
    "    return {\"input_ids\": token_indices, \"labels\": labels}\n",
    "\n",
    "\n",
    "# Applying this function to our dataset\n",
    "tokenized_conll2003 = conll2003.map(\n",
    "    tokenize_and_align_labels,\n",
    "    batched=True,\n",
    "    remove_columns=conll2003[\"train\"].column_names\n",
    ")\n",
    "\n",
    "# Let's explicitly check the first processed example to clearly see:\n",
    "print(\"Tokenized first example clearly:\")\n",
    "print(tokenized_conll2003[\"train\"][0])\n",
    "\n",
    "# Sample output clearly showing structure:\n",
    "# {\n",
    "#   \"input_ids\": tensor([10, 20, 30, 40]),\n",
    "#   \"labels\": tensor([3, 0, 7, 0])\n",
    "# }\n",
    "# (where numbers are hypothetical vocab indices for simplicity in understanding)\n"
   ]
  },
  {
   "cell_type": "code",
   "execution_count": 3,
   "metadata": {},
   "outputs": [
    {
     "name": "stdout",
     "output_type": "stream",
     "text": [
      "torch.Size([32, 43])\n",
      "torch.Size([32, 43])\n",
      "{'input_ids': tensor([[ 1395,   228,   658,  ...,     1,     1,     1],\n",
      "        [ 3268,    23,    16,  ...,     1,     1,     1],\n",
      "        [   83,  1276,    99,  ...,     1,     1,     1],\n",
      "        ...,\n",
      "        [  125,    18, 14848,  ...,     1,     1,     1],\n",
      "        [  231,    45,   344,  ...,   236,   270,     2],\n",
      "        [ 9668,    97,     1,  ...,     1,     1,     1]]), 'labels': tensor([[   0,    7,    0,  ..., -100, -100, -100],\n",
      "        [   3,    0,    0,  ..., -100, -100, -100],\n",
      "        [   0,    0,    0,  ..., -100, -100, -100],\n",
      "        ...,\n",
      "        [   0,    0,    1,  ..., -100, -100, -100],\n",
      "        [   0,    0,    0,  ...,    7,    0,    0],\n",
      "        [   5,    0, -100,  ..., -100, -100, -100]])}\n"
     ]
    }
   ],
   "source": [
    "from torch.utils.data import DataLoader\n",
    "from torch.nn.utils.rnn import pad_sequence\n",
    "\n",
    "# Special token index used explicitly for padding\n",
    "pad_index = vocab.stoi[\"<pad>\"]\n",
    "\n",
    "\n",
    "def pad_collate_fn(batch):\n",
    "    # batch is a list of items [{\"input_ids\":..., \"labels\":...}, {\"input_ids\":..., \"labels\":...}, ...]\n",
    "\n",
    "    # Step A. Collect input_ids from every example in batch:\n",
    "    # Example before padding: [tensor([4, 5, 6]), tensor([7, 8])]\n",
    "    input_ids = [torch.tensor(item[\"input_ids\"]) for item in batch]\n",
    "\n",
    "    # Step B. Collect labels from every example in batch:\n",
    "    # Example before padding: [tensor([0, 1, 2]), tensor([1, 0])]\n",
    "    labels = [torch.tensor(item[\"labels\"]) for item in batch]\n",
    "\n",
    "    # Step C. Explicitly Pad input token indices with pad_index.\n",
    "    input_ids_padded = pad_sequence(input_ids, batch_first=True, padding_value=pad_index)\n",
    "    # Clearly explained result: tensor([[4,5,6],[7,8,pad_index]])\n",
    "\n",
    "    # Step D. Explicitly pad labels with -100 (ignored index for loss calculation)\n",
    "    labels_padded = pad_sequence(labels, batch_first=True, padding_value=-100)\n",
    "    # Clearly explained result: tensor([[0,1,2],[1,0,-100]])\n",
    "\n",
    "    # Step E. Return the batch as a new dictionary explicitly\n",
    "    return {\"input_ids\": input_ids_padded, \"labels\": labels_padded}\n",
    "\n",
    "\n",
    "# Create DataLoaders that explicitly applies padding.\n",
    "train_loader = DataLoader(\n",
    "    tokenized_conll2003[\"train\"],  # Clearly reference tokenized dataset\n",
    "    batch_size=32,  # Batch size\n",
    "    shuffle=True,  # Shuffle data each epoch explicitly\n",
    "    collate_fn=pad_collate_fn  # Explicitly padding function to be applied\n",
    ")\n",
    "\n",
    "test_loader = DataLoader(\n",
    "    tokenized_conll2003[\"test\"],\n",
    "    batch_size=32,\n",
    "    collate_fn=pad_collate_fn\n",
    ")\n",
    "\n",
    "batch_sample = next(iter(train_loader))\n",
    "\n",
    "print(batch_sample[\"input_ids\"].shape)\n",
    "# input shape: [batch_size, max_seq_len]\n",
    "# For example clearly : torch.Size([32, 55])\n",
    "\n",
    "print(batch_sample[\"labels\"].shape)\n",
    "# batch shape: [batch_size, max_seq_len]\n",
    "# For example clearly: torch.Size([32, 55])\n",
    "\n",
    "print(batch_sample)\n",
    "# Padded values <pad_index> for token indices \n",
    "# and -100 for labels at the end of shorter sequences.\n"
   ]
  },
  {
   "cell_type": "code",
   "execution_count": 4,
   "metadata": {},
   "outputs": [],
   "source": [
    "import torch.nn as nn\n",
    "from torchtext.vocab import GloVe\n",
    "import torch\n",
    "\n",
    "embed_dim = 50\n",
    "num_tags = len(conll2003[\"train\"].features[\"ner_tags\"].feature.names)\n",
    "\n",
    "\n",
    "class SimpleNERModel(nn.Module):\n",
    "    def __init__(self, vocab_size, embed_dim, num_tags):\n",
    "        super(SimpleNERModel, self).__init__()\n",
    "\n",
    "        # This layer converts numeric token indices into embeddings.\n",
    "        self.embedding = nn.Embedding(vocab_size, embed_dim, padding_idx=pad_index)\n",
    "\n",
    "        # Load pre-trained GloVe embeddings for semantic representations.\n",
    "        glove = GloVe(name='6B', dim=embed_dim)\n",
    "\n",
    "        # Create embedding matrix from GloVe for words existing in our vocab explicitly.\n",
    "        embedding_matrix = torch.zeros(vocab_size, embed_dim)\n",
    "        for idx, token in enumerate(vocab.itos):\n",
    "            if token in glove.stoi:\n",
    "                embedding_matrix[idx] = glove.vectors[glove.stoi[token]]  # Known token from GloVe\n",
    "            else:\n",
    "                embedding_matrix[idx] = torch.randn(embed_dim)  # Random vector for unknown token\n",
    "\n",
    "        # Explicitly initializing the embedding layer with this embedding matrix\n",
    "        self.embedding.weight.data.copy_(embedding_matrix)\n",
    "\n",
    "        # A linear classifier layer predicting classes (NER tags clearly)\n",
    "        # for each embedding vector (each token in input sentence).\n",
    "        self.linear = nn.Linear(embed_dim, num_tags)\n",
    "\n",
    "    def forward(self, x):\n",
    "        # Given tokens [EU rejects unicorns], you have their numeric form [5, 20, 0]\n",
    "        embedded = self.embedding(x)  # --> generates embedding vectors\n",
    "\n",
    "        logits = self.linear(embedded)  # Linear layer predicts logits for each embedding clearly\n",
    "\n",
    "        # (batch_size, seq_len, num_labels) explicitly returned\n",
    "        return logits"
   ]
  },
  {
   "cell_type": "code",
   "execution_count": 5,
   "metadata": {},
   "outputs": [
    {
     "name": "stderr",
     "output_type": "stream",
     "text": [
      "C:\\Python312\\Lib\\site-packages\\torchtext\\vocab.py:432: FutureWarning: You are using `torch.load` with `weights_only=False` (the current default value), which uses the default pickle module implicitly. It is possible to construct malicious pickle data which will execute arbitrary code during unpickling (See https://github.com/pytorch/pytorch/blob/main/SECURITY.md#untrusted-models for more details). In a future release, the default value for `weights_only` will be flipped to `True`. This limits the functions that could be executed during unpickling. Arbitrary objects will no longer be allowed to be loaded via this mode unless they are explicitly allowlisted by the user via `torch.serialization.add_safe_globals`. We recommend you start setting `weights_only=True` for any use case where you don't have full control of the loaded file. Please open an issue on GitHub for any issues related to this experimental feature.\n",
      "  self.itos, self.stoi, self.vectors, self.dim = torch.load(path_pt)\n"
     ]
    }
   ],
   "source": [
    "device = torch.device(\"cuda\" if torch.cuda.is_available() else \"cpu\")\n",
    "\n",
    "num_tags = len(label_list)\n",
    "model = SimpleNERModel(len(vocab), 50, num_tags).to(device)\n",
    "criterion = nn.CrossEntropyLoss(ignore_index=-100)\n",
    "optimizer = torch.optim.Adam(model.parameters(), lr=1e-3)\n"
   ]
  },
  {
   "cell_type": "code",
   "execution_count": 6,
   "metadata": {},
   "outputs": [
    {
     "name": "stdout",
     "output_type": "stream",
     "text": [
      "Epoch [1/10], Loss: 0.8521\n",
      "Epoch [2/10], Loss: 0.5158\n",
      "Epoch [3/10], Loss: 0.4177\n",
      "Epoch [4/10], Loss: 0.3499\n",
      "Epoch [5/10], Loss: 0.2992\n",
      "Epoch [6/10], Loss: 0.2581\n",
      "Epoch [7/10], Loss: 0.2251\n",
      "Epoch [8/10], Loss: 0.2002\n",
      "Epoch [9/10], Loss: 0.1790\n",
      "Epoch [10/10], Loss: 0.1619\n"
     ]
    }
   ],
   "source": [
    "num_epochs = 10\n",
    "for epoch in range(num_epochs):\n",
    "    model.train()\n",
    "    total_loss = 0\n",
    "    for batch in train_loader:\n",
    "        input_ids = batch[\"input_ids\"].to(device)\n",
    "        labels = batch[\"labels\"].to(device)\n",
    "\n",
    "        optimizer.zero_grad()\n",
    "        outputs = model(input_ids)\n",
    "        loss = criterion(outputs.view(-1, num_tags), labels.view(-1))\n",
    "        loss.backward()\n",
    "        optimizer.step()\n",
    "\n",
    "        total_loss += loss.item()\n",
    "\n",
    "    avg_loss = total_loss / len(train_loader)\n",
    "    print(f\"Epoch [{epoch + 1}/{num_epochs}], Loss: {avg_loss:.4f}\")\n"
   ]
  },
  {
   "cell_type": "code",
   "execution_count": 7,
   "metadata": {},
   "outputs": [
    {
     "name": "stdout",
     "output_type": "stream",
     "text": [
      "Classification Report:\n",
      "              precision    recall  f1-score   support\n",
      "\n",
      "           O       0.93      0.99      0.96     38323\n",
      "       B-PER       0.76      0.40      0.52      1617\n",
      "       I-PER       0.45      0.13      0.21      1156\n",
      "       B-ORG       0.73      0.50      0.59      1661\n",
      "       I-ORG       0.66      0.44      0.53       835\n",
      "       B-LOC       0.80      0.75      0.78      1668\n",
      "       I-LOC       0.73      0.47      0.57       257\n",
      "      B-MISC       0.72      0.63      0.67       702\n",
      "      I-MISC       0.60      0.55      0.57       216\n",
      "\n",
      "    accuracy                           0.91     46435\n",
      "   macro avg       0.71      0.54      0.60     46435\n",
      "weighted avg       0.89      0.91      0.89     46435\n",
      "\n"
     ]
    }
   ],
   "source": [
    "model.eval()\n",
    "all_labels, all_predictions = [], []\n",
    "\n",
    "with torch.no_grad():\n",
    "    for batch in test_loader:\n",
    "        input_ids = batch[\"input_ids\"].to(device)\n",
    "        labels = batch[\"labels\"].to(device)\n",
    "\n",
    "        outputs = model(input_ids)\n",
    "        predictions = torch.argmax(outputs, dim=-1)\n",
    "\n",
    "        labels_flat = labels[labels != -100].cpu().numpy()\n",
    "        predictions_flat = predictions[labels != -100].cpu().numpy()\n",
    "\n",
    "        all_labels.extend(labels_flat)\n",
    "        all_predictions.extend(predictions_flat)\n",
    "\n",
    "print(\"Classification Report:\")\n",
    "print(classification_report(all_labels, all_predictions, target_names=label_list))\n"
   ]
  },
  {
   "cell_type": "code",
   "execution_count": 8,
   "metadata": {},
   "outputs": [
    {
     "data": {
      "image/png": "[encoded data removed]",
      "text/plain": [
       "<Figure size 1500x1200 with 2 Axes>"
      ]
     },
     "metadata": {},
     "output_type": "display_data"
    }
   ],
   "source": [
    "cm = confusion_matrix(all_labels, all_predictions)\n",
    "plt.figure(figsize=(15, 12))\n",
    "sns.heatmap(cm, annot=True, fmt=\"d\", cmap=\"Blues\",\n",
    "            xticklabels=label_list, yticklabels=label_list)\n",
    "plt.xlabel(\"Predicted Labels\")\n",
    "plt.ylabel(\"True Labels\")\n",
    "plt.title(\"Confusion Matrix for NER\")\n",
    "plt.show()\n"
   ]
  },
  {
   "cell_type": "code",
   "execution_count": 9,
   "metadata": {},
   "outputs": [
    {
     "name": "stderr",
     "output_type": "stream",
     "text": [
      "C:\\Python312\\Lib\\site-packages\\torchtext\\vocab.py:432: FutureWarning: You are using `torch.load` with `weights_only=False` (the current default value), which uses the default pickle module implicitly. It is possible to construct malicious pickle data which will execute arbitrary code during unpickling (See https://github.com/pytorch/pytorch/blob/main/SECURITY.md#untrusted-models for more details). In a future release, the default value for `weights_only` will be flipped to `True`. This limits the functions that could be executed during unpickling. Arbitrary objects will no longer be allowed to be loaded via this mode unless they are explicitly allowlisted by the user via `torch.serialization.add_safe_globals`. We recommend you start setting `weights_only=True` for any use case where you don't have full control of the loaded file. Please open an issue on GitHub for any issues related to this experimental feature.\n",
      "  self.itos, self.stoi, self.vectors, self.dim = torch.load(path_pt)\n"
     ]
    },
    {
     "name": "stdout",
     "output_type": "stream",
     "text": [
      "MLP NER Model architecture explicitly detailed:\n",
      " MLP_NER(\n",
      "  (embedding): Embedding(23625, 50, padding_idx=1)\n",
      "  (hidden_layers): Sequential(\n",
      "    (0): Linear(in_features=50, out_features=128, bias=True)\n",
      "    (1): ReLU()\n",
      "    (2): Linear(in_features=128, out_features=64, bias=True)\n",
      "    (3): ReLU()\n",
      "  )\n",
      "  (output_layer): Linear(in_features=64, out_features=9, bias=True)\n",
      ")\n"
     ]
    }
   ],
   "source": [
    "pad_idx = vocab.stoi[\"<pad>\"]\n",
    "\n",
    "class MLP_NER(nn.Module):\n",
    "    def __init__(self, vocab_size, embed_dim, hidden_dims, num_tags, pad_idx):\n",
    "        super().__init__()\n",
    "\n",
    "        # GloVe embedding\n",
    "        self.embedding = nn.Embedding(vocab_size, embed_dim, padding_idx=pad_idx)\n",
    "        glove = GloVe(name='6B', dim=embed_dim)\n",
    "\n",
    "        # Initialize embedding weights using GloVe embeddings explicitly\n",
    "        embedding_matrix = torch.zeros(vocab_size, embed_dim)\n",
    "        for i, token in enumerate(vocab.itos):\n",
    "            if token in glove.stoi:\n",
    "                embedding_matrix[i] = glove.vectors[glove.stoi[token]]\n",
    "            else:\n",
    "                embedding_matrix[i] = torch.randn(embed_dim)\n",
    "\n",
    "        self.embedding.weight.data.copy_(embedding_matrix)\n",
    "        self.embedding.weight.requires_grad = False  # Freeze embeddings for efficiency\n",
    "\n",
    "        layers = []\n",
    "        input_dim = embed_dim\n",
    "\n",
    "        # Build hidden layers explicitly\n",
    "        for hidden_dim in hidden_dims:\n",
    "            layers += [\n",
    "                nn.Linear(input_dim, hidden_dim),\n",
    "                nn.ReLU(),\n",
    "            ]\n",
    "            input_dim = hidden_dim\n",
    "\n",
    "        self.hidden_layers = nn.Sequential(*layers)\n",
    "        self.output_layer = nn.Linear(input_dim, num_tags)\n",
    "\n",
    "    def forward(self, x):\n",
    "        x = self.embedding(x)\n",
    "        x = self.hidden_layers(x)\n",
    "        x = self.output_layer(x)\n",
    "        return x\n",
    "\n",
    "\n",
    "# Example initialization clearly defined:\n",
    "model_mlp = MLP_NER(\n",
    "    vocab_size=len(vocab.itos),\n",
    "    embed_dim=50,\n",
    "    hidden_dims=[128, 64],  # You will experiment here clearly\n",
    "    num_tags=len(conll2003[\"train\"].features[\"ner_tags\"].feature.names),\n",
    "    pad_idx=pad_idx\n",
    ")\n",
    "\n",
    "print(\"MLP NER Model architecture explicitly detailed:\\n\", model_mlp)\n"
   ]
  },
  {
   "cell_type": "code",
   "execution_count": 10,
   "metadata": {},
   "outputs": [
    {
     "name": "stdout",
     "output_type": "stream",
     "text": [
      "Epoch 1/5: Loss explicitly=0.5699\n",
      "Epoch 2/5: Loss explicitly=0.4138\n",
      "Epoch 3/5: Loss explicitly=0.3729\n",
      "Epoch 4/5: Loss explicitly=0.3471\n",
      "Epoch 5/5: Loss explicitly=0.3279\n"
     ]
    }
   ],
   "source": [
    "import torch.optim as optim\n",
    "\n",
    "criterion = nn.CrossEntropyLoss(ignore_index=-100)\n",
    "optimizer = optim.Adam(model_mlp.parameters(), lr=1e-3)\n",
    "\n",
    "\n",
    "# Explicit training loop\n",
    "def train_model(model, data_loader, optimizer, criterion, epochs=5):\n",
    "    model.train()\n",
    "    for epoch in range(epochs):\n",
    "        epoch_loss = 0\n",
    "        for batch in data_loader:\n",
    "            input_ids, labels = batch[\"input_ids\"], batch[\"labels\"]\n",
    "            optimizer.zero_grad()\n",
    "            predictions = model(input_ids)\n",
    "            loss = criterion(predictions.view(-1, model.output_layer.out_features), labels.view(-1))\n",
    "            loss.backward()\n",
    "            optimizer.step()\n",
    "            epoch_loss += loss.item()\n",
    "\n",
    "        avg_loss = epoch_loss / len(data_loader)\n",
    "        print(f\"Epoch {epoch + 1}/{epochs}: Loss explicitly={avg_loss:.4f}\")\n",
    "\n",
    "\n",
    "train_model(model_mlp, train_loader, optimizer, criterion, epochs=5)\n"
   ]
  },
  {
   "cell_type": "code",
   "execution_count": 11,
   "metadata": {},
   "outputs": [
    {
     "name": "stdout",
     "output_type": "stream",
     "text": [
      "\n",
      "Explicitly Clear Classification Report for MLP:\n",
      "\n",
      "              precision    recall  f1-score   support\n",
      "\n",
      "           O       0.90      0.99      0.95     38323\n",
      "       B-PER       0.52      0.29      0.37      1617\n",
      "       I-PER       0.29      0.02      0.03      1156\n",
      "       B-ORG       0.50      0.32      0.39      1661\n",
      "       I-ORG       0.57      0.17      0.26       835\n",
      "       B-LOC       0.82      0.57      0.67      1668\n",
      "       I-LOC       0.68      0.30      0.42       257\n",
      "      B-MISC       0.68      0.47      0.56       702\n",
      "      I-MISC       0.71      0.41      0.52       216\n",
      "\n",
      "    accuracy                           0.88     46435\n",
      "   macro avg       0.63      0.39      0.46     46435\n",
      "weighted avg       0.84      0.88      0.85     46435\n",
      "\n"
     ]
    }
   ],
   "source": [
    "model_mlp.eval()\n",
    "all_preds, all_labels = [], []\n",
    "\n",
    "with torch.no_grad():\n",
    "    for batch in test_loader:\n",
    "        input_ids, labels = batch[\"input_ids\"], batch[\"labels\"]\n",
    "        predictions = model_mlp(input_ids)\n",
    "\n",
    "        preds = predictions.argmax(dim=-1)\n",
    "\n",
    "        mask = labels != -100\n",
    "        preds_flat = preds[mask].cpu().numpy()\n",
    "        labels_flat = labels[mask].cpu().numpy()\n",
    "\n",
    "        all_preds.extend(preds_flat)\n",
    "        all_labels.extend(labels_flat)\n",
    "\n",
    "target_names = conll2003[\"train\"].features[\"ner_tags\"].feature.names\n",
    "print(\"\\nExplicitly Clear Classification Report for MLP:\\n\")\n",
    "print(classification_report(all_labels, all_preds, target_names=target_names))\n"
   ]
  }
 ],
 "metadata": {
  "kernelspec": {
   "display_name": "venv",
   "language": "python",
   "name": "python3"
  },
  "language_info": {
   "codemirror_mode": {
    "name": "ipython",
    "version": 3
   },
   "file_extension": ".py",
   "mimetype": "text/x-python",
   "name": "python",
   "nbconvert_exporter": "python",
   "pygments_lexer": "ipython3",
   "version": "3.12.0"
  }
 },
 "nbformat": 4,
 "nbformat_minor": 2
}
