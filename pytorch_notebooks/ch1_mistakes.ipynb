{
 "cells": [
  {
   "cell_type": "code",
   "execution_count": 2,
   "metadata": {},
   "outputs": [
    {
     "name": "stdout",
     "output_type": "stream",
     "text": [
      "Original 2D Tensor:\n",
      " tensor([[1, 2],\n",
      "        [3, 4]])\n",
      "\n",
      "Attempting to index with three dimensions:\n",
      "IndexError caught: too many indices for tensor of dimension 2\n"
     ]
    }
   ],
   "source": [
    "import torch\n",
    "# Mistake: Attempting to index a 2D tensor with three indices.\n",
    "points = torch.tensor([[1, 2],\n",
    "                       [3, 4]])\n",
    "print(\"Original 2D Tensor:\\n\", points)\n",
    "\n",
    "try:\n",
    "    print(\"\\nAttempting to index with three dimensions:\")\n",
    "    # This will raise an IndexError because 'points' is only 2D.\n",
    "    print(points[0, 0, 0])  # Incorrect indexing\n",
    "except IndexError as e:\n",
    "    print(\"IndexError caught:\", e)\n"
   ]
  },
  {
   "cell_type": "code",
   "execution_count": 4,
   "metadata": {},
   "outputs": [
    {
     "name": "stdout",
     "output_type": "stream",
     "text": [
      "\n",
      "After modifying 'row_ref' (a view):\n",
      "Original tensor:\n",
      " tensor([[999.,   2.],\n",
      "        [  3.,   4.]])\n",
      "Subtensor 'row_ref':\n",
      " tensor([999.,   2.])\n"
     ]
    }
   ],
   "source": [
    "# Mistake: Expecting that a subtensor is an independent copy.\n",
    "# Here, slicing returns a view into the original tensor.\n",
    "row_ref = points[0]      # This is just a view, not a copy\n",
    "row_ref[0] = 999         # This modifies 'points' as well\n",
    "print(\"\\nAfter modifying 'row_ref' (a view):\")\n",
    "print(\"Original tensor:\\n\", points)\n",
    "print(\"Subtensor 'row_ref':\\n\", row_ref)\n"
   ]
  },
  {
   "cell_type": "code",
   "execution_count": null,
   "metadata": {},
   "outputs": [],
   "source": [
    "# Explanation: The stride of a tensor tells you how many elements in the underlying storage \n",
    "# you need to skip to move by one unit along a particular dimension.\n",
    "#\n",
    "# For example, in a 2D tensor with shape (rows, columns), if the stride is (s0, s1):\n",
    "#   - s0: the number of elements to skip to go to the next row.\n",
    "#   - s1: the number of elements to skip to go to the next column.\n",
    "#\n",
    "# In our case:\n",
    "print(\"\\nTensor 'points':\\n\", points)\n",
    "print(\"Shape of 'points':\", points.shape)\n",
    "print(\"Stride of 'points':\", points.stride())\n",
    "# For our 2x2 tensor, a common stride is (2, 1), meaning:\n",
    "#   - To move from row 0 to row 1, skip 2 elements in the storage.\n",
    "#   - To move from one column to the next in the same row, skip 1 element.\n"
   ]
  },
  {
   "cell_type": "code",
   "execution_count": 6,
   "metadata": {},
   "outputs": [
    {
     "name": "stdout",
     "output_type": "stream",
     "text": [
      "\n",
      "Transposed view 'points_t':\n",
      " tensor([[999.,   3.],\n",
      "        [  2.,   4.]])\n",
      "Is 'points_t' contiguous? False\n",
      "Stride of original 'points': (2, 1)\n",
      "Stride of transposed 'points_t': (1, 2)\n",
      "RuntimeError caught when trying to view a non-contiguous tensor: view size is not compatible with input tensor's size and stride (at least one dimension spans across two contiguous subspaces). Use .reshape(...) instead.\n"
     ]
    }
   ],
   "source": [
    "# Mistake: Expecting that transposing a tensor rearranges its underlying memory.\n",
    "# Transposing returns a view with different stride values.\n",
    "points_t = points.t()  # Transpose the tensor (swap rows and columns)\n",
    "print(\"\\nTransposed view 'points_t':\\n\", points_t)\n",
    "print(\"Is 'points_t' contiguous?\", points_t.is_contiguous())\n",
    "print(\"Stride of original 'points':\", points.stride())\n",
    "print(\"Stride of transposed 'points_t':\", points_t.stride())\n",
    "\n",
    "# Note: 'points_t' is not contiguous. Its stride reflects the transposition.\n",
    "# When a tensor is non-contiguous, operations like .view() may fail.\n",
    "\n",
    "try:\n",
    "    # This attempt to flatten may fail because 'points_t' is non-contiguous.\n",
    "    flattened = points_t.view(-1)\n",
    "    print(\"\\nFlattened tensor:\", flattened)\n",
    "except RuntimeError as e:\n",
    "    print(\"RuntimeError caught when trying to view a non-contiguous tensor:\", e)\n"
   ]
  },
  {
   "cell_type": "code",
   "execution_count": null,
   "metadata": {},
   "outputs": [],
   "source": [
    "# Mistake: Modifying a transposed view and not realizing it affects the original tensor.\n",
    "points_t[0, 1] = 1234\n",
    "print(\"\\nAfter modifying 'points_t':\")\n",
    "print(\"Transposed tensor 'points_t':\\n\", points_t)\n",
    "print(\"Original tensor 'points' also changed:\\n\", points)\n"
   ]
  },
  {
   "cell_type": "code",
   "execution_count": null,
   "metadata": {},
   "outputs": [],
   "source": [
    "# To avoid unwanted behavior when slicing, clone your tensor if you need an independent copy.\n",
    "points = torch.tensor([[1.0, 2.0],\n",
    "                       [3.0, 4.0]])\n",
    "row_clone = points[0].clone()  # Now row_clone is independent.\n",
    "row_clone[0] = 777\n",
    "print(\"\\nAfter cloning and modifying 'row_clone':\")\n",
    "print(\"Original tensor 'points':\\n\", points)\n",
    "print(\"Cloned row 'row_clone':\\n\", row_clone)"
   ]
  }
 ],
 "metadata": {
  "kernelspec": {
   "display_name": "llm2",
   "language": "python",
   "name": "python3"
  },
  "language_info": {
   "codemirror_mode": {
    "name": "ipython",
    "version": 3
   },
   "file_extension": ".py",
   "mimetype": "text/x-python",
   "name": "python",
   "nbconvert_exporter": "python",
   "pygments_lexer": "ipython3",
   "version": "3.10.13"
  }
 },
 "nbformat": 4,
 "nbformat_minor": 2
}
