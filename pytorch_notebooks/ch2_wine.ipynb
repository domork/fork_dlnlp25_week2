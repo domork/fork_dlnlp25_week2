{
 "cells": [
  {
   "cell_type": "code",
   "execution_count": 5,
   "metadata": {},
   "outputs": [],
   "source": [
    "import pandas as pd\n",
    "import torch\n"
   ]
  },
  {
   "cell_type": "code",
   "execution_count": 6,
   "metadata": {},
   "outputs": [
    {
     "name": "stdout",
     "output_type": "stream",
     "text": [
      "Dataset shape: (4898, 12)\n",
      "First few rows:\n",
      "    fixed acidity  volatile acidity  citric acid  residual sugar  chlorides  \\\n",
      "0            7.0              0.27         0.36            20.7      0.045   \n",
      "1            6.3              0.30         0.34             1.6      0.049   \n",
      "2            8.1              0.28         0.40             6.9      0.050   \n",
      "3            7.2              0.23         0.32             8.5      0.058   \n",
      "4            7.2              0.23         0.32             8.5      0.058   \n",
      "\n",
      "   free sulfur dioxide  total sulfur dioxide  density    pH  sulphates  \\\n",
      "0                 45.0                 170.0   1.0010  3.00       0.45   \n",
      "1                 14.0                 132.0   0.9940  3.30       0.49   \n",
      "2                 30.0                  97.0   0.9951  3.26       0.44   \n",
      "3                 47.0                 186.0   0.9956  3.19       0.40   \n",
      "4                 47.0                 186.0   0.9956  3.19       0.40   \n",
      "\n",
      "   alcohol  quality  \n",
      "0      8.8        6  \n",
      "1      9.5        6  \n",
      "2     10.1        6  \n",
      "3      9.9        6  \n",
      "4      9.9        6  \n"
     ]
    }
   ],
   "source": [
    "# The CSV file is semicolon-delimited and uses double quotes around headers.\n",
    "data_path = './python_scripts/winequality-white.csv'  # Update the path if needed\n",
    "df = pd.read_csv(data_path, sep=';', quotechar='\"')\n",
    "print(\"Dataset shape:\", df.shape)\n",
    "print(\"First few rows:\\n\", df.head())\n"
   ]
  },
  {
   "cell_type": "code",
   "execution_count": 7,
   "metadata": {},
   "outputs": [
    {
     "name": "stdout",
     "output_type": "stream",
     "text": [
      "\n",
      "Features shape: (4898, 11)\n",
      "Target shape: (4898,)\n"
     ]
    }
   ],
   "source": [
    "# The dataset contains 12 columns; the first 11 are features and the 12th (\"quality\") is the target.\n",
    "features = df.iloc[:, :-1]\n",
    "target = df.iloc[:, -1]\n",
    "print(\"\\nFeatures shape:\", features.shape)\n",
    "print(\"Target shape:\", target.shape)\n"
   ]
  },
  {
   "cell_type": "code",
   "execution_count": 8,
   "metadata": {},
   "outputs": [
    {
     "name": "stdout",
     "output_type": "stream",
     "text": [
      "\n",
      "Features tensor shape: torch.Size([4898, 11])\n",
      "Target tensor shape: torch.Size([4898])\n"
     ]
    }
   ],
   "source": [
    "# Convert the features to a float tensor and the target to a long tensor (if using for classification)\n",
    "features_tensor = torch.tensor(features.values, dtype=torch.float)\n",
    "target_tensor = torch.tensor(target.values, dtype=torch.long)\n",
    "print(\"\\nFeatures tensor shape:\", features_tensor.shape)\n",
    "print(\"Target tensor shape:\", target_tensor.shape)\n"
   ]
  },
  {
   "cell_type": "code",
   "execution_count": 9,
   "metadata": {},
   "outputs": [
    {
     "name": "stdout",
     "output_type": "stream",
     "text": [
      "\n",
      "Target tensor after unsqueeze: torch.Size([4898, 1])\n"
     ]
    }
   ],
   "source": [
    "# This transforms a 1D target tensor of shape (N,) into a 2D tensor of shape (N, 1)\n",
    "target_tensor_unsqueezed = target_tensor.unsqueeze(1)\n",
    "print(\"\\nTarget tensor after unsqueeze:\", target_tensor_unsqueezed.shape)\n"
   ]
  },
  {
   "cell_type": "code",
   "execution_count": 10,
   "metadata": {},
   "outputs": [
    {
     "name": "stdout",
     "output_type": "stream",
     "text": [
      "\n",
      "First 5 rows of normalized features:\n",
      "tensor([[ 1.7208e-01, -8.1761e-02,  2.1326e-01,  2.8211e+00, -3.5351e-02,\n",
      "          5.6987e-01,  7.4449e-01,  2.3312e+00, -1.2468e+00, -3.4915e-01,\n",
      "         -1.3930e+00],\n",
      "        [-6.5743e-01,  2.1587e-01,  4.7997e-02, -9.4467e-01,  1.4773e-01,\n",
      "         -1.2529e+00, -1.4967e-01, -9.1871e-03,  7.3995e-01,  1.3417e-03,\n",
      "         -8.2419e-01],\n",
      "        [ 1.4756e+00,  1.7450e-02,  5.4378e-01,  1.0027e-01,  1.9350e-01,\n",
      "         -3.1211e-01, -9.7324e-01,  3.5860e-01,  4.7505e-01, -4.3677e-01,\n",
      "         -3.3663e-01],\n",
      "        [ 4.0908e-01, -4.7861e-01, -1.1727e-01,  4.1573e-01,  5.5967e-01,\n",
      "          6.8747e-01,  1.1210e+00,  5.2576e-01,  1.1480e-02, -7.8726e-01,\n",
      "         -4.9915e-01],\n",
      "        [ 4.0908e-01, -4.7861e-01, -1.1727e-01,  4.1573e-01,  5.5967e-01,\n",
      "          6.8747e-01,  1.1210e+00,  5.2576e-01,  1.1480e-02, -7.8726e-01,\n",
      "         -4.9915e-01]])\n"
     ]
    }
   ],
   "source": [
    "# Compute the mean and variance for each feature (column) and normalize accordingly.\n",
    "features_mean = torch.mean(features_tensor, dim=0)\n",
    "features_var = torch.var(features_tensor, dim=0)\n",
    "features_normalized = (features_tensor - features_mean) / torch.sqrt(features_var)\n",
    "print(\"\\nFirst 5 rows of normalized features:\")\n",
    "print(features_normalized[:5])"
   ]
  }
 ],
 "metadata": {
  "kernelspec": {
   "display_name": "llm2",
   "language": "python",
   "name": "python3"
  },
  "language_info": {
   "codemirror_mode": {
    "name": "ipython",
    "version": 3
   },
   "file_extension": ".py",
   "mimetype": "text/x-python",
   "name": "python",
   "nbconvert_exporter": "python",
   "pygments_lexer": "ipython3",
   "version": "3.10.13"
  }
 },
 "nbformat": 4,
 "nbformat_minor": 2
}
